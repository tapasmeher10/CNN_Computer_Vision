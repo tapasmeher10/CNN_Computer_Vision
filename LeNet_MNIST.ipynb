{
  "nbformat": 4,
  "nbformat_minor": 0,
  "metadata": {
    "colab": {
      "name": "LeNet_MNIST.ipynb",
      "provenance": [],
      "authorship_tag": "ABX9TyNB0v6ep1B3QOb8gQYa2loC",
      "include_colab_link": true
    },
    "kernelspec": {
      "name": "python3",
      "display_name": "Python 3"
    },
    "language_info": {
      "name": "python"
    }
  },
  "cells": [
    {
      "cell_type": "markdown",
      "metadata": {
        "id": "view-in-github",
        "colab_type": "text"
      },
      "source": [
        "<a href=\"https://colab.research.google.com/github/tapasmeher10/CNN_Computer_Vision/blob/main/LeNet_MNIST.ipynb\" target=\"_parent\"><img src=\"https://colab.research.google.com/assets/colab-badge.svg\" alt=\"Open In Colab\"/></a>"
      ]
    },
    {
      "cell_type": "markdown",
      "source": [
        "## Importing Libraries"
      ],
      "metadata": {
        "id": "CNbMNto3g73R"
      }
    },
    {
      "cell_type": "code",
      "execution_count": null,
      "metadata": {
        "id": "QR4epqvke9Pw"
      },
      "outputs": [],
      "source": [
        "from keras.preprocessing.image import ImageDataGenerator\n",
        "from keras.datasets import mnist\n",
        "from keras.models import Sequential\n",
        "from keras.layers import Dense,Dropout, Flatten\n",
        "from keras.layers import Conv2D , MaxPooling2D , ZeroPadding2D\n",
        "# from keras.layers.normalization import BatchNormalization\n",
        "from tensorflow.keras.layers import BatchNormalization\n",
        "from keras.regularizers import l2\n",
        "from keras.utils import np_utils\n",
        "import keras"
      ]
    },
    {
      "cell_type": "code",
      "source": [
        "from keras.datasets import mnist\n",
        "(x_train,y_train),(x_test,y_test)= mnist.load_data()"
      ],
      "metadata": {
        "id": "S_HFfR3egxkY"
      },
      "execution_count": null,
      "outputs": []
    },
    {
      "cell_type": "code",
      "source": [
        "print(x_train.shape)\n",
        "print(y_train.shape)\n",
        "print(x_test.shape)\n",
        "print(y_test.shape)"
      ],
      "metadata": {
        "colab": {
          "base_uri": "https://localhost:8080/"
        },
        "id": "MG84zvPyhpR2",
        "outputId": "8685bb95-ba90-4fdf-f68d-dabe733b7b93"
      },
      "execution_count": null,
      "outputs": [
        {
          "output_type": "stream",
          "name": "stdout",
          "text": [
            "(60000, 28, 28)\n",
            "(60000,)\n",
            "(10000, 28, 28)\n",
            "(10000,)\n"
          ]
        }
      ]
    },
    {
      "cell_type": "markdown",
      "source": [
        "## Perp our Data"
      ],
      "metadata": {
        "id": "MBm7pethiA9o"
      }
    },
    {
      "cell_type": "code",
      "source": [
        "img_rows = x_train[0].shape[0]\n",
        "img_cols = x_train[0].shape[0]\n",
        "x_train=x_train.reshape(x_train.shape[0],img_rows,img_cols,1)\n",
        "x_test=x_test.reshape(x_test.shape[0],img_rows,img_cols,1)\n",
        "\n",
        "#store the shape of a single image\n",
        "input_shape = (img_rows,img_cols,1)\n",
        "\n",
        "#change our image type to float32 data type\n",
        "x_train = x_train.astype('float32')\n",
        "x_test =x_test.astype('float32')\n",
        "\n",
        "#normalize our data by changing the range from 0 - 255 to 0 - 1\n",
        "x_train /= 255\n",
        "x_test /= 255\n",
        "\n",
        "print('x_train shape',x_train.shape)\n",
        "print('train samples',x_train.shape[0])\n",
        "print('test samples',x_test.shape[0])"
      ],
      "metadata": {
        "colab": {
          "base_uri": "https://localhost:8080/"
        },
        "id": "dlOGAV7ahxkO",
        "outputId": "208a3f5a-c5b2-497e-c2f0-fb950daf5429"
      },
      "execution_count": null,
      "outputs": [
        {
          "output_type": "stream",
          "name": "stdout",
          "text": [
            "x_train shape (60000, 28, 28, 1)\n",
            "train samples 60000\n",
            "test samples 10000\n"
          ]
        }
      ]
    },
    {
      "cell_type": "markdown",
      "source": [
        "## One hot Encode"
      ],
      "metadata": {
        "id": "LAtTxQ40iUMG"
      }
    },
    {
      "cell_type": "code",
      "source": [
        "y_train = np_utils.to_categorical(y_train)\n",
        "y_test = np_utils.to_categorical(y_test)\n",
        "\n",
        "num_classes = y_test.shape[1]\n",
        "num_pixels = x_train.shape[1] * x_train.shape[2]"
      ],
      "metadata": {
        "id": "qVoZ3vZviJ__"
      },
      "execution_count": null,
      "outputs": []
    },
    {
      "cell_type": "code",
      "source": [
        "print(num_classes)\n",
        "print(num_pixels)"
      ],
      "metadata": {
        "colab": {
          "base_uri": "https://localhost:8080/"
        },
        "id": "GJ5cuzifjMVY",
        "outputId": "8e9c38a1-a0bf-49f3-e51a-a78894306623"
      },
      "execution_count": null,
      "outputs": [
        {
          "output_type": "stream",
          "name": "stdout",
          "text": [
            "10\n",
            "784\n"
          ]
        }
      ]
    },
    {
      "cell_type": "markdown",
      "source": [
        "## Create our layer to replicate LeNet"
      ],
      "metadata": {
        "id": "VXuAPtUvjn82"
      }
    },
    {
      "cell_type": "code",
      "source": [
        "from keras import activations\n",
        "import tensorflow as tf\n",
        "\n",
        "# create model\n",
        "model= Sequential()\n",
        "\n",
        "# 2 sets of CRP (Convolution, RELU , Pooling)\n",
        "model.add(Conv2D(20, kernel_size=(5,5),padding=\"same\",activation='relu',input_shape=input_shape))\n",
        "model.add(MaxPooling2D(pool_size=(2,2), strides=(2,2)))\n",
        "\n",
        "model.add(Conv2D(50, kernel_size=(5,5),activation='relu',padding=\"same\")) \n",
        "model.add(MaxPooling2D(pool_size=(2,2), strides=(2,2)))\n",
        "\n",
        "# fully connected layer (w/ relu)\n",
        "model.add(Flatten())\n",
        "model.add(Dense(500,activation=\"relu\"))\n",
        "\n",
        "# softmax for classification\n",
        "model.add(Dense(num_classes,activation=\"softmax\"))\n",
        "\n",
        "model.compile(loss=\"categorical_crossentropy\", optimizer= tf.keras.optimizers.Adadelta(),metrics=[\"accuracy\"])\n",
        "\n",
        "print(model.summary())\n"
      ],
      "metadata": {
        "colab": {
          "base_uri": "https://localhost:8080/"
        },
        "id": "-6R9TQoZjTZE",
        "outputId": "56c9616a-b5d2-4c35-f9ab-ae2f176108c0"
      },
      "execution_count": null,
      "outputs": [
        {
          "output_type": "stream",
          "name": "stdout",
          "text": [
            "Model: \"sequential\"\n",
            "_________________________________________________________________\n",
            " Layer (type)                Output Shape              Param #   \n",
            "=================================================================\n",
            " conv2d (Conv2D)             (None, 28, 28, 20)        520       \n",
            "                                                                 \n",
            " max_pooling2d (MaxPooling2D  (None, 14, 14, 20)       0         \n",
            " )                                                               \n",
            "                                                                 \n",
            " conv2d_1 (Conv2D)           (None, 14, 14, 50)        25050     \n",
            "                                                                 \n",
            " max_pooling2d_1 (MaxPooling  (None, 7, 7, 50)         0         \n",
            " 2D)                                                             \n",
            "                                                                 \n",
            " flatten (Flatten)           (None, 2450)              0         \n",
            "                                                                 \n",
            " dense (Dense)               (None, 500)               1225500   \n",
            "                                                                 \n",
            " dense_1 (Dense)             (None, 10)                5010      \n",
            "                                                                 \n",
            "=================================================================\n",
            "Total params: 1,256,080\n",
            "Trainable params: 1,256,080\n",
            "Non-trainable params: 0\n",
            "_________________________________________________________________\n",
            "None\n"
          ]
        }
      ]
    },
    {
      "cell_type": "markdown",
      "source": [
        "## Train LeNet On dataset"
      ],
      "metadata": {
        "id": "JCaStJKHp_l5"
      }
    },
    {
      "cell_type": "code",
      "source": [
        "x_train.shape"
      ],
      "metadata": {
        "colab": {
          "base_uri": "https://localhost:8080/"
        },
        "id": "CBnk_uRIv30Y",
        "outputId": "49cefe84-d589-470d-8dbe-4c2f2f047776"
      },
      "execution_count": null,
      "outputs": [
        {
          "output_type": "execute_result",
          "data": {
            "text/plain": [
              "(60000, 28, 28, 1)"
            ]
          },
          "metadata": {},
          "execution_count": 8
        }
      ]
    },
    {
      "cell_type": "code",
      "source": [
        "y_train.shape"
      ],
      "metadata": {
        "colab": {
          "base_uri": "https://localhost:8080/"
        },
        "id": "FgiaaEn-wgby",
        "outputId": "114cac05-e377-4a07-b04b-f5055af37690"
      },
      "execution_count": null,
      "outputs": [
        {
          "output_type": "execute_result",
          "data": {
            "text/plain": [
              "(60000, 10)"
            ]
          },
          "metadata": {},
          "execution_count": 9
        }
      ]
    },
    {
      "cell_type": "code",
      "source": [
        "x_test.shape"
      ],
      "metadata": {
        "colab": {
          "base_uri": "https://localhost:8080/"
        },
        "id": "UvOQCbLnxSeg",
        "outputId": "dd6fccdf-be04-4873-a2e6-be0e17b0bd49"
      },
      "execution_count": null,
      "outputs": [
        {
          "output_type": "execute_result",
          "data": {
            "text/plain": [
              "(10000, 28, 28, 1)"
            ]
          },
          "metadata": {},
          "execution_count": 10
        }
      ]
    },
    {
      "cell_type": "code",
      "source": [
        "batch_size=1\n",
        "epochs= 10\n",
        "\n",
        "history= model.fit(x_train,y_train,epochs=epochs,batch_size=1,validation_data=(x_test,y_test),shuffle=True)\n",
        "score= model.evaluate(x_test,y_test,verbose=1)\n",
        "print(\"Test loss: \",score[0])\n",
        "print(\"Test Accuracy: \",score[1])"
      ],
      "metadata": {
        "colab": {
          "base_uri": "https://localhost:8080/"
        },
        "id": "TBDUXhnenmbr",
        "outputId": "8970dc22-13c4-4982-cd8e-f873e6271f52"
      },
      "execution_count": null,
      "outputs": [
        {
          "output_type": "stream",
          "name": "stdout",
          "text": [
            "Epoch 1/10\n",
            "60000/60000 [==============================] - 699s 12ms/step - loss: 1.4085 - accuracy: 0.7015 - val_loss: 0.6072 - val_accuracy: 0.8478\n",
            "Epoch 2/10\n",
            "60000/60000 [==============================] - 678s 11ms/step - loss: 0.5003 - accuracy: 0.8591 - val_loss: 0.4048 - val_accuracy: 0.8822\n",
            "Epoch 3/10\n",
            "60000/60000 [==============================] - 675s 11ms/step - loss: 0.3851 - accuracy: 0.8866 - val_loss: 0.3398 - val_accuracy: 0.9005\n",
            "Epoch 4/10\n",
            "60000/60000 [==============================] - 668s 11ms/step - loss: 0.3376 - accuracy: 0.8999 - val_loss: 0.3057 - val_accuracy: 0.9101\n",
            "Epoch 5/10\n",
            "60000/60000 [==============================] - 665s 11ms/step - loss: 0.3082 - accuracy: 0.9089 - val_loss: 0.2820 - val_accuracy: 0.9158\n",
            "Epoch 6/10\n",
            "60000/60000 [==============================] - 671s 11ms/step - loss: 0.2875 - accuracy: 0.9147 - val_loss: 0.2659 - val_accuracy: 0.9211\n",
            "Epoch 7/10\n",
            "60000/60000 [==============================] - 662s 11ms/step - loss: 0.2714 - accuracy: 0.9194 - val_loss: 0.2519 - val_accuracy: 0.9241\n",
            "Epoch 8/10\n",
            "60000/60000 [==============================] - 659s 11ms/step - loss: 0.2585 - accuracy: 0.9233 - val_loss: 0.2399 - val_accuracy: 0.9288\n",
            "Epoch 9/10\n",
            "60000/60000 [==============================] - 693s 12ms/step - loss: 0.2478 - accuracy: 0.9266 - val_loss: 0.2301 - val_accuracy: 0.9319\n",
            "Epoch 10/10\n",
            "60000/60000 [==============================] - 667s 11ms/step - loss: 0.2385 - accuracy: 0.9295 - val_loss: 0.2218 - val_accuracy: 0.9331\n",
            "313/313 [==============================] - 6s 20ms/step - loss: 0.2218 - accuracy: 0.9331\n",
            "Test loss:  0.2217884510755539\n",
            "Test Accuracy:  0.9330999851226807\n"
          ]
        }
      ]
    },
    {
      "cell_type": "code",
      "source": [
        ""
      ],
      "metadata": {
        "id": "ci0pKb2xw1NR"
      },
      "execution_count": null,
      "outputs": []
    }
  ]
}