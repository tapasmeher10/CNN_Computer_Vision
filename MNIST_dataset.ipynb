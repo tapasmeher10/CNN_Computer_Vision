{
  "nbformat": 4,
  "nbformat_minor": 0,
  "metadata": {
    "colab": {
      "name": "MNIST dataset.ipynb",
      "provenance": [],
      "authorship_tag": "ABX9TyMVGBpPflqQMoG5AlWG16us",
      "include_colab_link": true
    },
    "kernelspec": {
      "name": "python3",
      "display_name": "Python 3"
    },
    "language_info": {
      "name": "python"
    }
  },
  "cells": [
    {
      "cell_type": "markdown",
      "metadata": {
        "id": "view-in-github",
        "colab_type": "text"
      },
      "source": [
        "<a href=\"https://colab.research.google.com/github/tapasmeher10/CNN_Computer_Vision/blob/main/MNIST_dataset.ipynb\" target=\"_parent\"><img src=\"https://colab.research.google.com/assets/colab-badge.svg\" alt=\"Open In Colab\"/></a>"
      ]
    },
    {
      "cell_type": "markdown",
      "source": [
        "## Loading Dataset"
      ],
      "metadata": {
        "id": "NPgWlq2NbxBT"
      }
    },
    {
      "cell_type": "code",
      "execution_count": 1,
      "metadata": {
        "id": "cyPfI-PRbJJs"
      },
      "outputs": [],
      "source": [
        "from keras.datasets import mnist\n",
        "(x_train,y_train),(x_test,y_test)= mnist.load_data()"
      ]
    },
    {
      "cell_type": "code",
      "source": [
        "print(x_train.shape)\n",
        "print(y_train.shape)\n",
        "print(x_test.shape)\n",
        "print(y_test.shape)"
      ],
      "metadata": {
        "colab": {
          "base_uri": "https://localhost:8080/"
        },
        "id": "wsKPv4iDb7Oj",
        "outputId": "0fba5594-b432-4042-9b2e-dfa0c7c877f0"
      },
      "execution_count": 2,
      "outputs": [
        {
          "output_type": "stream",
          "name": "stdout",
          "text": [
            "(60000, 28, 28)\n",
            "(60000,)\n",
            "(10000, 28, 28)\n",
            "(10000,)\n"
          ]
        }
      ]
    },
    {
      "cell_type": "markdown",
      "source": [
        "##Randomly show an image using Open CV"
      ],
      "metadata": {
        "id": "r6-wsIizbu_r"
      }
    },
    {
      "cell_type": "code",
      "source": [
        "import cv2\n",
        "import numpy as np"
      ],
      "metadata": {
        "id": "LTG_6LduckFw"
      },
      "execution_count": 3,
      "outputs": []
    },
    {
      "cell_type": "code",
      "source": [
        "# for i in range(0,6):\n",
        "#   random_num= np.random.randint(0,len(x_train))\n",
        "#   img=x_train[random_num]\n",
        "#   window_name=\" Random sample\"+str(i)\n",
        "#   cv2.imshow(window_name,img)\n",
        "#   cv2.waitKey(0)\n",
        "#   cv2.destroyAllWindows()"
      ],
      "metadata": {
        "id": "DOIVeXpRc2ql"
      },
      "execution_count": 4,
      "outputs": []
    },
    {
      "cell_type": "markdown",
      "source": [
        "## Using matplolib"
      ],
      "metadata": {
        "id": "EOsi4u8nedxw"
      }
    },
    {
      "cell_type": "code",
      "source": [
        "import matplotlib.pyplot as plt\n",
        "for i in range(0,5):\n",
        "  plt.subplot(331)\n",
        "  random_num=np.random.randint(0,len(x_train))\n",
        "  plt.imshow(x_train[random_num],cmap=plt.get_cmap('gray'))\n",
        "  plt.show()"
      ],
      "metadata": {
        "colab": {
          "base_uri": "https://localhost:8080/",
          "height": 507
        },
        "id": "noe5b5SKeMRR",
        "outputId": "217ef18e-235c-4bf1-9a58-24695fd61bca"
      },
      "execution_count": 5,
      "outputs": [
        {
          "output_type": "display_data",
          "data": {
            "image/png": "[encoded data removed]",
            "text/plain": [
              "<Figure size 432x288 with 1 Axes>"
            ]
          },
          "metadata": {
            "needs_background": "light"
          }
        },
        {
          "output_type": "display_data",
          "data": {
            "image/png": "[encoded data removed]",
            "text/plain": [
              "<Figure size 432x288 with 1 Axes>"
            ]
          },
          "metadata": {
            "needs_background": "light"
          }
        },
        {
          "output_type": "display_data",
          "data": {
            "image/png": "[encoded data removed]",
            "text/plain": [
              "<Figure size 432x288 with 1 Axes>"
            ]
          },
          "metadata": {
            "needs_background": "light"
          }
        },
        {
          "output_type": "display_data",
          "data": {
            "image/png": "[encoded data removed]",
            "text/plain": [
              "<Figure size 432x288 with 1 Axes>"
            ]
          },
          "metadata": {
            "needs_background": "light"
          }
        },
        {
          "output_type": "display_data",
          "data": {
            "image/png": "[encoded data removed]",
            "text/plain": [
              "<Figure size 432x288 with 1 Axes>"
            ]
          },
          "metadata": {
            "needs_background": "light"
          }
        }
      ]
    },
    {
      "cell_type": "markdown",
      "source": [
        "## Getting our dataset into shape"
      ],
      "metadata": {
        "id": "ldenSd8-Fi1v"
      }
    },
    {
      "cell_type": "code",
      "source": [
        "img_rows = x_train[0].shape[0]\n",
        "img_cols = x_train[0].shape[0]\n",
        "x_train=x_train.reshape(x_train.shape[0],img_rows,img_cols,1)\n",
        "x_test=x_test.reshape(x_test.shape[0],img_rows,img_cols,1)\n",
        "\n",
        "#store the shape of a single image\n",
        "input_shape = (img_rows,img_cols,1)\n",
        "\n",
        "#change our image type to float32 data type\n",
        "x_train = x_train.astype('float32')\n",
        "x_test =x_test.astype('float32')\n",
        "\n",
        "#normalize our data by changing the range from 0 - 255 to 0 - 1\n",
        "x_train /= 255\n",
        "x_test /= 255\n",
        "\n",
        "print('x_train shape',x_train.shape)\n",
        "print('train samples',x_train.shape[0])\n",
        "print('test samples',x_test.shape[0])"
      ],
      "metadata": {
        "id": "WdMo92Xbj0z8",
        "colab": {
          "base_uri": "https://localhost:8080/"
        },
        "outputId": "cfa62869-22ea-4c69-ee47-ed3da939e29e"
      },
      "execution_count": 6,
      "outputs": [
        {
          "output_type": "stream",
          "name": "stdout",
          "text": [
            "x_train shape (60000, 28, 28, 1)\n",
            "train samples 60000\n",
            "test samples 10000\n"
          ]
        }
      ]
    },
    {
      "cell_type": "markdown",
      "source": [
        "## Hot encode"
      ],
      "metadata": {
        "id": "naHXiqtNM--l"
      }
    },
    {
      "cell_type": "code",
      "source": [
        "#one hot encode our labels(y)\n",
        "from keras.utils import np_utils\n",
        "\n",
        "y_train=np_utils.to_categorical(y_train)\n",
        "y_test=np_utils.to_categorical(y_test)\n",
        "\n",
        "print(\"Number of class :\" + str(y_test.shape[1]))\n",
        "\n",
        "num_classes= y_test.shape[1]\n",
        "num_pixels = x_train.shape[1]* x_train.shape[2]"
      ],
      "metadata": {
        "colab": {
          "base_uri": "https://localhost:8080/"
        },
        "id": "sv5Jnq5zM0YA",
        "outputId": "e4aacdce-10cc-4b00-9ab3-af4a102dc523"
      },
      "execution_count": 7,
      "outputs": [
        {
          "output_type": "stream",
          "name": "stdout",
          "text": [
            "Number of class :10\n"
          ]
        }
      ]
    },
    {
      "cell_type": "markdown",
      "source": [
        "##Building the Model"
      ],
      "metadata": {
        "id": "Q-bHTsDNtJrw"
      }
    },
    {
      "cell_type": "code",
      "source": [
        "import keras\n",
        "from keras.datasets import mnist\n",
        "from keras.models import Sequential\n",
        "from keras.layers import Dense,Dropout, Flatten\n",
        "from keras.layers import Conv2D , MaxPooling2D\n",
        "from keras import backend as k\n",
        "from tensorflow.keras.optimizers import SGD\n",
        "\n",
        "\n",
        "#create model\n",
        "model=Sequential()\n",
        "\n",
        "model.add(Conv2D(32, kernel_size=(3,3),activation='relu',input_shape=input_shape))\n",
        "model.add(Conv2D(64,(3,3),activation='relu'))\n",
        "model.add(MaxPooling2D(pool_size=(2,2)))\n",
        "model.add(Dropout(0.25))\n",
        "model.add(Flatten())\n",
        "model.add(Dense(128,activation='relu'))\n",
        "model.add(Dropout(0.5))\n",
        "model.add(Dense(num_classes,activation='softmax'))\n",
        "\n",
        "model.compile(loss='categorical_crossentropy',optimizer=SGD(0.01),metrics=['accuracy'])\n",
        "print(model.summary())"
      ],
      "metadata": {
        "id": "ff33xSEXOPCg",
        "colab": {
          "base_uri": "https://localhost:8080/"
        },
        "outputId": "89926633-ad93-49ac-ad0a-31f829aa1987"
      },
      "execution_count": 8,
      "outputs": [
        {
          "output_type": "stream",
          "name": "stdout",
          "text": [
            "Model: \"sequential\"\n",
            "_________________________________________________________________\n",
            " Layer (type)                Output Shape              Param #   \n",
            "=================================================================\n",
            " conv2d (Conv2D)             (None, 26, 26, 32)        320       \n",
            "                                                                 \n",
            " conv2d_1 (Conv2D)           (None, 24, 24, 64)        18496     \n",
            "                                                                 \n",
            " max_pooling2d (MaxPooling2D  (None, 12, 12, 64)       0         \n",
            " )                                                               \n",
            "                                                                 \n",
            " dropout (Dropout)           (None, 12, 12, 64)        0         \n",
            "                                                                 \n",
            " flatten (Flatten)           (None, 9216)              0         \n",
            "                                                                 \n",
            " dense (Dense)               (None, 128)               1179776   \n",
            "                                                                 \n",
            " dropout_1 (Dropout)         (None, 128)               0         \n",
            "                                                                 \n",
            " dense_1 (Dense)             (None, 10)                1290      \n",
            "                                                                 \n",
            "=================================================================\n",
            "Total params: 1,199,882\n",
            "Trainable params: 1,199,882\n",
            "Non-trainable params: 0\n",
            "_________________________________________________________________\n",
            "None\n"
          ]
        }
      ]
    },
    {
      "cell_type": "markdown",
      "source": [
        "##Train Our Model\n"
      ],
      "metadata": {
        "id": "sBq2TVCG5wZ3"
      }
    },
    {
      "cell_type": "code",
      "source": [
        "batch_size=32\n",
        "epochs= 10\n",
        "\n",
        "history= model.fit(x_train,y_train,batch_size=batch_size,epochs=epochs,verbose=1,validation_data=(x_test,y_test))\n"
      ],
      "metadata": {
        "colab": {
          "base_uri": "https://localhost:8080/"
        },
        "id": "CPiBkVv7xl8Q",
        "outputId": "fa20f591-2894-49cb-e413-fe7e1b99845a"
      },
      "execution_count": 9,
      "outputs": [
        {
          "output_type": "stream",
          "name": "stdout",
          "text": [
            "Epoch 1/10\n",
            "1875/1875 [==============================] - 160s 85ms/step - loss: 0.5781 - accuracy: 0.8210 - val_loss: 0.2057 - val_accuracy: 0.9387\n",
            "Epoch 2/10\n",
            "1875/1875 [==============================] - 151s 80ms/step - loss: 0.2774 - accuracy: 0.9169 - val_loss: 0.1346 - val_accuracy: 0.9571\n",
            "Epoch 3/10\n",
            "1875/1875 [==============================] - 175s 93ms/step - loss: 0.2033 - accuracy: 0.9396 - val_loss: 0.0949 - val_accuracy: 0.9698\n",
            "Epoch 4/10\n",
            "1875/1875 [==============================] - 150s 80ms/step - loss: 0.1586 - accuracy: 0.9527 - val_loss: 0.0759 - val_accuracy: 0.9762\n",
            "Epoch 5/10\n",
            "1875/1875 [==============================] - 170s 91ms/step - loss: 0.1332 - accuracy: 0.9608 - val_loss: 0.0648 - val_accuracy: 0.9791\n",
            "Epoch 6/10\n",
            "1875/1875 [==============================] - 168s 89ms/step - loss: 0.1182 - accuracy: 0.9646 - val_loss: 0.0596 - val_accuracy: 0.9807\n",
            "Epoch 7/10\n",
            "1875/1875 [==============================] - 174s 93ms/step - loss: 0.1051 - accuracy: 0.9694 - val_loss: 0.0524 - val_accuracy: 0.9825\n",
            "Epoch 8/10\n",
            "1875/1875 [==============================] - 182s 97ms/step - loss: 0.0965 - accuracy: 0.9700 - val_loss: 0.0480 - val_accuracy: 0.9840\n",
            "Epoch 9/10\n",
            "1875/1875 [==============================] - 165s 88ms/step - loss: 0.0887 - accuracy: 0.9740 - val_loss: 0.0449 - val_accuracy: 0.9856\n",
            "Epoch 10/10\n",
            "1875/1875 [==============================] - 149s 80ms/step - loss: 0.0823 - accuracy: 0.9753 - val_loss: 0.0422 - val_accuracy: 0.9866\n"
          ]
        }
      ]
    },
    {
      "cell_type": "code",
      "source": [
        "score= model.evaluate(x_train,y_train,verbose=1)\n",
        "print(\"Test loss: \",score[0])\n",
        "print(\"Test Accuracy: \",score[1])"
      ],
      "metadata": {
        "colab": {
          "base_uri": "https://localhost:8080/"
        },
        "id": "QKaNZGIb8uoM",
        "outputId": "fe485fb8-a220-40fb-d7fe-49597aed565d"
      },
      "execution_count": 10,
      "outputs": [
        {
          "output_type": "stream",
          "name": "stdout",
          "text": [
            "1875/1875 [==============================] - 36s 19ms/step - loss: 0.0358 - accuracy: 0.9888\n",
            "Test loss:  0.03579259291291237\n",
            "Test Accuracy:  0.9888499975204468\n"
          ]
        }
      ]
    },
    {
      "cell_type": "code",
      "source": [
        "#ploting Loss chart\n",
        "import matplotlib.pyplot as plt\n",
        "history_dict=history.history\n",
        "\n",
        "loss_values =history_dict['loss']\n",
        "val_loss_values=history_dict['val_loss']\n",
        "epochs=range(1,len(loss_values)+1)\n",
        "\n",
        "line1=plt.plot(epochs,val_loss_values,label=\"Validation/Test Loss\")\n",
        "line2=plt.plot(epochs,loss_values,label=\"Training Loss\")\n",
        "plt.setp(line1,linewidth=2.0,marker=\"+\",markersize=10.0)\n",
        "plt.setp(line2,linewidth=2.0,marker=\"4\",markersize=10.0)\n",
        "plt.xlabel(\"Epochs\")\n",
        "plt.ylabel(\"Loss\")\n",
        "plt.grid(True)\n",
        "plt.legend()\n",
        "plt.show()"
      ],
      "metadata": {
        "colab": {
          "base_uri": "https://localhost:8080/",
          "height": 282
        },
        "id": "_2EY3TW66qJr",
        "outputId": "852ee4b0-f476-48d3-d192-894512388685"
      },
      "execution_count": 14,
      "outputs": [
        {
          "output_type": "display_data",
          "data": {
            "image/png": "[encoded data removed]",
            "text/plain": [
              "<Figure size 432x288 with 1 Axes>"
            ]
          },
          "metadata": {
            "needs_background": "light"
          }
        }
      ]
    },
    {
      "cell_type": "code",
      "source": [
        "#ploting Accuracy chart\n",
        "import matplotlib.pyplot as plt\n",
        "history_dict=history.history\n",
        "\n",
        "acc_values =history_dict['accuracy']\n",
        "val_acc_values=history_dict['val_accuracy']\n",
        "epochs=range(1,len(acc_values)+1)\n",
        "\n",
        "line1=plt.plot(epochs,val_acc_values,label=\"Validation/Test Accuracy\")\n",
        "line2=plt.plot(epochs,acc_values,label=\"Training Accuracy\")\n",
        "plt.setp(line1,linewidth=2.0,marker=\"+\",markersize=10.0)\n",
        "plt.setp(line2,linewidth=2.0,marker=\"4\",markersize=10.0)\n",
        "plt.xlabel(\"Epochs\")\n",
        "plt.ylabel(\"Accuracy\")\n",
        "plt.grid(True)\n",
        "plt.legend()\n",
        "plt.show()"
      ],
      "metadata": {
        "colab": {
          "base_uri": "https://localhost:8080/",
          "height": 279
        },
        "id": "725TYBV-_mky",
        "outputId": "b16553fe-5159-4636-8eea-0a1289f7b415"
      },
      "execution_count": 17,
      "outputs": [
        {
          "output_type": "display_data",
          "data": {
            "image/png": "[encoded data removed]",
            "text/plain": [
              "<Figure size 432x288 with 1 Axes>"
            ]
          },
          "metadata": {
            "needs_background": "light"
          }
        }
      ]
    }
  ]
}